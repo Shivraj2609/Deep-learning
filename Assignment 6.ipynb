{
 "cells": [
  {
   "cell_type": "markdown",
   "metadata": {
    "id": "sjeShcJ33xgf"
   },
   "source": [
    "## Importing required libraries"
   ]
  },
  {
   "cell_type": "code",
   "execution_count": 4,
   "metadata": {
    "id": "KreP7lmuwRBe"
   },
   "outputs": [],
   "source": [
    "import tensorflow_datasets as tfds\n",
    "import tensorflow as tf\n",
    "from tensorflow.keras.utils import to_categorical"
   ]
  },
  {
   "cell_type": "markdown",
   "metadata": {
    "id": "n-VtZPDX30tX"
   },
   "source": [
    "## Load Data"
   ]
  },
  {
   "cell_type": "code",
   "execution_count": 5,
   "metadata": {
    "id": "bxuQbXMlwoPl",
    "scrolled": true
   },
   "outputs": [
    {
     "name": "stdout",
     "output_type": "stream",
     "text": [
      "\u001b[1mDownloading and preparing dataset Unknown size (download: Unknown size, generated: Unknown size, total: Unknown size) to C:\\Users\\Durgesh\\tensorflow_datasets\\tf_flowers\\3.0.1...\u001b[0m\n"
     ]
    },
    {
     "name": "stderr",
     "output_type": "stream",
     "text": [
      "Dl Completed...: 0 url [00:00, ? url/s]\n",
      "Dl Completed...:   0%|                                                                         | 0/1 [00:00<?, ? url/s]\n",
      "Dl Completed...:   0%|                                                                         | 0/1 [00:01<?, ? url/s]\n",
      "Dl Size...:   0%|                                                                            | 0/218 [00:01<?, ? MiB/s]\u001b[A\n",
      "Dl Completed...:   0%|                                                                         | 0/1 [00:02<?, ? url/s]\u001b[A\n",
      "Dl Completed...:   0%|                                                                         | 0/1 [00:03<?, ? url/s]\u001b[A\n",
      "Dl Completed...:   0%|                                                                         | 0/1 [00:03<?, ? url/s]\u001b[A\n",
      "Dl Size...:   1%|▉                                                                   | 3/218 [00:03<09:59,  2.79s/ MiB]\u001b[A\n",
      "Dl Completed...:   0%|                                                                         | 0/1 [00:04<?, ? url/s]\u001b[A\n",
      "Dl Completed...:   0%|                                                                         | 0/1 [00:04<?, ? url/s]\u001b[A\n",
      "Dl Size...:   2%|█▌                                                                  | 5/218 [00:04<03:06,  1.14 MiB/s]\u001b[A\n",
      "Dl Completed...:   0%|                                                                         | 0/1 [00:05<?, ? url/s]\u001b[A\n",
      "Dl Completed...:   0%|                                                                         | 0/1 [00:05<?, ? url/s]\u001b[A\n",
      "Dl Completed...:   0%|                                                                         | 0/1 [00:05<?, ? url/s]\u001b[A\n",
      "Dl Size...:   4%|██▍                                                                 | 8/218 [00:05<02:42,  1.29 MiB/s]\u001b[A\n",
      "Dl Completed...:   0%|                                                                         | 0/1 [00:06<?, ? url/s]\u001b[A\n",
      "Dl Completed...:   0%|                                                                         | 0/1 [00:06<?, ? url/s]\u001b[A\n",
      "Dl Completed...:   0%|                                                                         | 0/1 [00:06<?, ? url/s]\u001b[A\n",
      "Dl Completed...:   0%|                                                                         | 0/1 [00:06<?, ? url/s]\u001b[A\n",
      "Dl Completed...:   0%|                                                                         | 0/1 [00:07<?, ? url/s]\u001b[A\n",
      "Dl Completed...:   0%|                                                                         | 0/1 [00:07<?, ? url/s]\u001b[A\n",
      "Dl Completed...:   0%|                                                                         | 0/1 [00:07<?, ? url/s]\u001b[A\n",
      "Dl Completed...:   0%|                                                                         | 0/1 [00:07<?, ? url/s]\u001b[A\n",
      "Dl Size...:   7%|████▉                                                              | 16/218 [00:07<01:58,  1.70 MiB/s]\u001b[A\n",
      "Dl Completed...:   0%|                                                                         | 0/1 [00:07<?, ? url/s]\u001b[A\n",
      "Dl Completed...:   0%|                                                                         | 0/1 [00:07<?, ? url/s]\u001b[A\n",
      "Dl Completed...:   0%|                                                                         | 0/1 [00:07<?, ? url/s]\u001b[A\n",
      "Dl Completed...:   0%|                                                                         | 0/1 [00:07<?, ? url/s]\u001b[A\n",
      "Dl Completed...:   0%|                                                                         | 0/1 [00:08<?, ? url/s]\u001b[A\n",
      "Dl Completed...:   0%|                                                                         | 0/1 [00:08<?, ? url/s]\u001b[A\n",
      "Dl Size...:  10%|██████▊                                                            | 22/218 [00:08<00:57,  3.42 MiB/s]\u001b[A\n",
      "Dl Completed...:   0%|                                                                         | 0/1 [00:09<?, ? url/s]\u001b[A\n",
      "Dl Completed...:   0%|                                                                         | 0/1 [00:09<?, ? url/s]\u001b[A\n",
      "Dl Completed...:   0%|                                                                         | 0/1 [00:09<?, ? url/s]\u001b[A\n",
      "Dl Completed...:   0%|                                                                         | 0/1 [00:09<?, ? url/s]\u001b[A\n",
      "Dl Completed...:   0%|                                                                         | 0/1 [00:09<?, ? url/s]\u001b[A\n",
      "Dl Completed...:   0%|                                                                         | 0/1 [00:09<?, ? url/s]\u001b[A\n",
      "Dl Completed...:   0%|                                                                         | 0/1 [00:09<?, ? url/s]\u001b[A\n",
      "Dl Completed...:   0%|                                                                         | 0/1 [00:09<?, ? url/s]\u001b[A\n",
      "Dl Size...:  14%|█████████▏                                                         | 30/218 [00:09<00:50,  3.70 MiB/s]\u001b[A\n",
      "Dl Completed...:   0%|                                                                         | 0/1 [00:10<?, ? url/s]\u001b[A\n",
      "Dl Completed...:   0%|                                                                         | 0/1 [00:10<?, ? url/s]\u001b[A\n",
      "Dl Completed...:   0%|                                                                         | 0/1 [00:10<?, ? url/s]\u001b[A\n",
      "Dl Completed...:   0%|                                                                         | 0/1 [00:11<?, ? url/s]\u001b[A\n",
      "Dl Completed...:   0%|                                                                         | 0/1 [00:11<?, ? url/s]\u001b[A\n",
      "Dl Size...:  16%|██████████▊                                                        | 35/218 [00:11<00:42,  4.31 MiB/s]\u001b[A\n",
      "Dl Completed...:   0%|                                                                         | 0/1 [00:11<?, ? url/s]\u001b[A\n",
      "Dl Completed...:   0%|                                                                         | 0/1 [00:11<?, ? url/s]\u001b[A\n",
      "Dl Completed...:   0%|                                                                         | 0/1 [00:11<?, ? url/s]\u001b[A\n",
      "Dl Completed...:   0%|                                                                         | 0/1 [00:12<?, ? url/s]\u001b[A\n",
      "Dl Completed...:   0%|                                                                         | 0/1 [00:12<?, ? url/s]\u001b[A\n",
      "Dl Completed...:   0%|                                                                         | 0/1 [00:12<?, ? url/s]\u001b[A\n",
      "Dl Size...:  19%|████████████▌                                                      | 41/218 [00:12<00:39,  4.45 MiB/s]\u001b[A\n",
      "Dl Completed...:   0%|                                                                         | 0/1 [00:12<?, ? url/s]\u001b[A\n",
      "Dl Completed...:   0%|                                                                         | 0/1 [00:12<?, ? url/s]\u001b[A\n",
      "Dl Completed...:   0%|                                                                         | 0/1 [00:12<?, ? url/s]\u001b[A\n",
      "Dl Completed...:   0%|                                                                         | 0/1 [00:13<?, ? url/s]\u001b[A\n",
      "Dl Completed...:   0%|                                                                         | 0/1 [00:13<?, ? url/s]\u001b[A\n",
      "Dl Completed...:   0%|                                                                         | 0/1 [00:13<?, ? url/s]\u001b[A\n",
      "Dl Completed...:   0%|                                                                         | 0/1 [00:13<?, ? url/s]\u001b[A\n",
      "Dl Completed...:   0%|                                                                         | 0/1 [00:13<?, ? url/s]\u001b[A\n",
      "Dl Completed...:   0%|                                                                         | 0/1 [00:13<?, ? url/s]\u001b[A\n",
      "Dl Size...:  23%|███████████████▎                                                   | 50/218 [00:13<00:34,  4.83 MiB/s]\u001b[A\n",
      "Dl Completed...:   0%|                                                                         | 0/1 [00:13<?, ? url/s]\u001b[A\n",
      "Dl Completed...:   0%|                                                                         | 0/1 [00:13<?, ? url/s]\u001b[A\n",
      "Dl Completed...:   0%|                                                                         | 0/1 [00:13<?, ? url/s]\u001b[A\n",
      "Dl Completed...:   0%|                                                                         | 0/1 [00:14<?, ? url/s]\u001b[A\n",
      "Dl Completed...:   0%|                                                                         | 0/1 [00:14<?, ? url/s]\u001b[A\n",
      "Dl Completed...:   0%|                                                                         | 0/1 [00:14<?, ? url/s]\u001b[A\n",
      "Dl Completed...:   0%|                                                                         | 0/1 [00:14<?, ? url/s]\u001b[A\n",
      "Dl Size...:  26%|█████████████████▌                                                 | 57/218 [00:14<00:27,  5.80 MiB/s]\u001b[A\n",
      "Dl Completed...:   0%|                                                                         | 0/1 [00:14<?, ? url/s]\u001b[A\n",
      "Dl Completed...:   0%|                                                                         | 0/1 [00:14<?, ? url/s]\u001b[A\n",
      "Dl Completed...:   0%|                                                                         | 0/1 [00:15<?, ? url/s]\u001b[A\n",
      "Dl Completed...:   0%|                                                                         | 0/1 [00:15<?, ? url/s]\u001b[A\n",
      "Dl Completed...:   0%|                                                                         | 0/1 [00:16<?, ? url/s]\u001b[A\n",
      "Dl Completed...:   0%|                                                                         | 0/1 [00:16<?, ? url/s]\u001b[A\n",
      "Dl Completed...:   0%|                                                                         | 0/1 [00:17<?, ? url/s]\u001b[A\n",
      "Dl Size...:  29%|███████████████████▋                                               | 64/218 [00:17<00:25,  5.98 MiB/s]\u001b[A\n",
      "Dl Completed...:   0%|                                                                         | 0/1 [00:17<?, ? url/s]\u001b[A\n",
      "Dl Completed...:   0%|                                                                         | 0/1 [00:17<?, ? url/s]\u001b[A\n",
      "Dl Completed...:   0%|                                                                         | 0/1 [00:18<?, ? url/s]\u001b[A\n",
      "Dl Completed...:   0%|                                                                         | 0/1 [00:18<?, ? url/s]\u001b[A\n",
      "Dl Completed...:   0%|                                                                         | 0/1 [00:18<?, ? url/s]\u001b[A\n",
      "Dl Completed...:   0%|                                                                         | 0/1 [00:19<?, ? url/s]\u001b[A\n",
      "Dl Size...:  32%|█████████████████████▌                                             | 70/218 [00:19<00:33,  4.36 MiB/s]\u001b[A\n",
      "Dl Completed...:   0%|                                                                         | 0/1 [00:19<?, ? url/s]\u001b[A\n",
      "Dl Completed...:   0%|                                                                         | 0/1 [00:20<?, ? url/s]\u001b[A\n",
      "Dl Completed...:   0%|                                                                         | 0/1 [00:20<?, ? url/s]\u001b[A\n",
      "Dl Completed...:   0%|                                                                         | 0/1 [00:20<?, ? url/s]\u001b[A\n",
      "Dl Completed...:   0%|                                                                         | 0/1 [00:21<?, ? url/s]\u001b[A\n",
      "Dl Size...:  34%|███████████████████████                                            | 75/218 [00:21<00:39,  3.66 MiB/s]\u001b[A\n",
      "Dl Completed...:   0%|                                                                         | 0/1 [00:21<?, ? url/s]\u001b[A\n",
      "Dl Completed...:   0%|                                                                         | 0/1 [00:21<?, ? url/s]\u001b[A\n",
      "Dl Completed...:   0%|                                                                         | 0/1 [00:21<?, ? url/s]\u001b[A\n",
      "Dl Completed...:   0%|                                                                         | 0/1 [00:21<?, ? url/s]\u001b[A\n",
      "Dl Size...:  36%|████████████████████████▎                                          | 79/218 [00:21<00:39,  3.52 MiB/s]\u001b[A\n",
      "Dl Completed...:   0%|                                                                         | 0/1 [00:22<?, ? url/s]\u001b[A\n",
      "Dl Completed...:   0%|                                                                         | 0/1 [00:22<?, ? url/s]\u001b[A\n",
      "Dl Completed...:   0%|                                                                         | 0/1 [00:23<?, ? url/s]\u001b[A\n",
      "Dl Completed...:   0%|                                                                         | 0/1 [00:23<?, ? url/s]\u001b[A\n",
      "Dl Size...:  38%|█████████████████████████▌                                         | 83/218 [00:23<00:37,  3.58 MiB/s]\u001b[A\n",
      "Dl Completed...:   0%|                                                                         | 0/1 [00:24<?, ? url/s]\u001b[A\n",
      "Dl Completed...:   0%|                                                                         | 0/1 [00:24<?, ? url/s]\u001b[A\n",
      "Dl Completed...:   0%|                                                                         | 0/1 [00:24<?, ? url/s]\u001b[A\n",
      "Dl Completed...:   0%|                                                                         | 0/1 [00:25<?, ? url/s]\u001b[A\n",
      "Dl Size...:  40%|██████████████████████████▋                                        | 87/218 [00:25<00:42,  3.09 MiB/s]\u001b[A\n",
      "Dl Completed...:   0%|                                                                         | 0/1 [00:25<?, ? url/s]\u001b[A\n",
      "Dl Completed...:   0%|                                                                         | 0/1 [00:27<?, ? url/s]\u001b[A\n",
      "Dl Completed...:   0%|                                                                         | 0/1 [00:27<?, ? url/s]\u001b[A\n",
      "Dl Completed...:   0%|                                                                         | 0/1 [00:27<?, ? url/s]\u001b[A\n",
      "Dl Size...:  42%|███████████████████████████▉                                       | 91/218 [00:27<00:40,  3.15 MiB/s]\u001b[A\n",
      "Dl Completed...:   0%|                                                                         | 0/1 [00:28<?, ? url/s]\u001b[A\n",
      "Dl Completed...:   0%|                                                                         | 0/1 [00:28<?, ? url/s]\u001b[A\n",
      "Dl Completed...:   0%|                                                                         | 0/1 [00:29<?, ? url/s]\u001b[A\n",
      "Dl Size...:  43%|████████████████████████████▉                                      | 94/218 [00:29<00:54,  2.29 MiB/s]\u001b[A\n",
      "Dl Completed...:   0%|                                                                         | 0/1 [00:30<?, ? url/s]\u001b[A\n",
      "Dl Completed...:   0%|                                                                         | 0/1 [00:30<?, ? url/s]\u001b[A\n",
      "Dl Completed...:   0%|                                                                         | 0/1 [00:30<?, ? url/s]\u001b[A\n",
      "Dl Size...:  44%|█████████████████████████████▊                                     | 97/218 [00:30<00:55,  2.17 MiB/s]\u001b[A\n",
      "Dl Completed...:   0%|                                                                         | 0/1 [00:31<?, ? url/s]\u001b[A\n",
      "Dl Completed...:   0%|                                                                         | 0/1 [00:32<?, ? url/s]\u001b[A\n",
      "Dl Completed...:   0%|                                                                         | 0/1 [00:32<?, ? url/s]\u001b[A\n",
      "Dl Size...:  46%|██████████████████████████████▎                                   | 100/218 [00:32<00:55,  2.13 MiB/s]\u001b[A\n",
      "Dl Completed...:   0%|                                                                         | 0/1 [00:32<?, ? url/s]\u001b[A\n",
      "Dl Completed...:   0%|                                                                         | 0/1 [00:32<?, ? url/s]\u001b[A\n",
      "Dl Completed...:   0%|                                                                         | 0/1 [00:33<?, ? url/s]\u001b[A\n",
      "Dl Size...:  47%|███████████████████████████████▏                                  | 103/218 [00:33<00:50,  2.27 MiB/s]\u001b[A\n",
      "Dl Completed...:   0%|                                                                         | 0/1 [00:35<?, ? url/s]\u001b[A\n",
      "Dl Completed...:   0%|                                                                         | 0/1 [00:38<?, ? url/s]\u001b[A\n",
      "Dl Completed...:   0%|                                                                         | 0/1 [00:40<?, ? url/s]\u001b[A\n",
      "Dl Size...:  49%|████████████████████████████████                                  | 106/218 [00:40<01:07,  1.65 MiB/s]\u001b[A\n",
      "Dl Completed...:   0%|                                                                         | 0/1 [00:40<?, ? url/s]\u001b[A\n",
      "Dl Completed...:   0%|                                                                         | 0/1 [00:41<?, ? url/s]\u001b[A\n",
      "Dl Completed...:   0%|                                                                         | 0/1 [00:41<?, ? url/s]\u001b[A\n",
      "Dl Completed...:   0%|                                                                         | 0/1 [00:41<?, ? url/s]\u001b[A\n",
      "Dl Completed...:   0%|                                                                         | 0/1 [00:41<?, ? url/s]\u001b[A\n",
      "Dl Completed...:   0%|                                                                         | 0/1 [00:41<?, ? url/s]\u001b[A\n",
      "Dl Completed...:   0%|                                                                         | 0/1 [00:41<?, ? url/s]\u001b[A\n",
      "Dl Size...:  52%|██████████████████████████████████▏                               | 113/218 [00:41<01:36,  1.09 MiB/s]\u001b[A\n",
      "Dl Completed...:   0%|                                                                         | 0/1 [00:42<?, ? url/s]\u001b[A\n",
      "Dl Completed...:   0%|                                                                         | 0/1 [00:42<?, ? url/s]\u001b[A\n",
      "Dl Completed...:   0%|                                                                         | 0/1 [00:42<?, ? url/s]\u001b[A\n",
      "Dl Completed...:   0%|                                                                         | 0/1 [00:42<?, ? url/s]\u001b[A\n",
      "Dl Completed...:   0%|                                                                         | 0/1 [00:42<?, ? url/s]\u001b[A\n",
      "Dl Completed...:   0%|                                                                         | 0/1 [00:42<?, ? url/s]\u001b[A\n",
      "Dl Completed...:   0%|                                                                         | 0/1 [00:42<?, ? url/s]\u001b[A\n",
      "Dl Completed...:   0%|                                                                         | 0/1 [00:43<?, ? url/s]\u001b[A\n",
      "Dl Size...:  56%|████████████████████████████████████▋                             | 121/218 [00:43<00:53,  1.81 MiB/s]\u001b[A\n",
      "Dl Completed...:   0%|                                                                         | 0/1 [00:43<?, ? url/s]\u001b[A\n",
      "Dl Completed...:   0%|                                                                         | 0/1 [00:43<?, ? url/s]\u001b[A\n",
      "Dl Completed...:   0%|                                                                         | 0/1 [00:43<?, ? url/s]\u001b[A\n",
      "Dl Completed...:   0%|                                                                         | 0/1 [00:43<?, ? url/s]\u001b[A\n",
      "Dl Completed...:   0%|                                                                         | 0/1 [00:43<?, ? url/s]\u001b[A\n",
      "Dl Completed...:   0%|                                                                         | 0/1 [00:44<?, ? url/s]\u001b[A\n",
      "Dl Size...:  58%|██████████████████████████████████████▍                           | 127/218 [00:44<00:33,  2.71 MiB/s]\u001b[A\n",
      "Dl Completed...:   0%|                                                                         | 0/1 [00:44<?, ? url/s]\u001b[A\n",
      "Dl Completed...:   0%|                                                                         | 0/1 [00:44<?, ? url/s]\u001b[A\n",
      "Dl Completed...:   0%|                                                                         | 0/1 [00:44<?, ? url/s]\u001b[A\n",
      "Dl Completed...:   0%|                                                                         | 0/1 [00:44<?, ? url/s]\u001b[A\n",
      "Dl Completed...:   0%|                                                                         | 0/1 [00:45<?, ? url/s]\u001b[A\n",
      "Dl Completed...:   0%|                                                                         | 0/1 [00:45<?, ? url/s]\u001b[A\n",
      "Dl Size...:  61%|████████████████████████████████████████▎                         | 133/218 [00:45<00:26,  3.22 MiB/s]\u001b[A\n",
      "Dl Completed...:   0%|                                                                         | 0/1 [00:45<?, ? url/s]\u001b[A\n",
      "Dl Completed...:   0%|                                                                         | 0/1 [00:45<?, ? url/s]\u001b[A\n",
      "Dl Completed...:   0%|                                                                         | 0/1 [00:45<?, ? url/s]\u001b[A\n",
      "Dl Completed...:   0%|                                                                         | 0/1 [00:45<?, ? url/s]\u001b[A\n",
      "Dl Completed...:   0%|                                                                         | 0/1 [00:45<?, ? url/s]\u001b[A\n",
      "Dl Completed...:   0%|                                                                         | 0/1 [00:46<?, ? url/s]\u001b[A\n",
      "Dl Completed...:   0%|                                                                         | 0/1 [00:46<?, ? url/s]\u001b[A\n",
      "Dl Completed...:   0%|                                                                         | 0/1 [00:46<?, ? url/s]\u001b[A\n",
      "Dl Size...:  65%|██████████████████████████████████████████▋                       | 141/218 [00:46<00:20,  3.68 MiB/s]\u001b[A\n",
      "Dl Completed...:   0%|                                                                         | 0/1 [00:46<?, ? url/s]\u001b[A\n",
      "Dl Completed...:   0%|                                                                         | 0/1 [00:46<?, ? url/s]\u001b[A\n",
      "Dl Completed...:   0%|                                                                         | 0/1 [00:47<?, ? url/s]\u001b[A\n",
      "Dl Completed...:   0%|                                                                         | 0/1 [00:47<?, ? url/s]\u001b[A\n",
      "Dl Completed...:   0%|                                                                         | 0/1 [00:47<?, ? url/s]\u001b[A\n",
      "Dl Completed...:   0%|                                                                         | 0/1 [00:47<?, ? url/s]\u001b[A\n",
      "Dl Size...:  67%|████████████████████████████████████████████▌                     | 147/218 [00:47<00:16,  4.42 MiB/s]\u001b[A\n",
      "Dl Completed...:   0%|                                                                         | 0/1 [00:48<?, ? url/s]\u001b[A\n",
      "Dl Completed...:   0%|                                                                         | 0/1 [00:48<?, ? url/s]\u001b[A\n",
      "Dl Completed...:   0%|                                                                         | 0/1 [00:48<?, ? url/s]\u001b[A\n",
      "Dl Completed...:   0%|                                                                         | 0/1 [00:48<?, ? url/s]\u001b[A\n",
      "Dl Completed...:   0%|                                                                         | 0/1 [00:48<?, ? url/s]\u001b[A\n",
      "Dl Completed...:   0%|                                                                         | 0/1 [00:48<?, ? url/s]\u001b[A\n",
      "Dl Size...:  70%|██████████████████████████████████████████████▎                   | 153/218 [00:48<00:14,  4.36 MiB/s]\u001b[A\n",
      "Dl Completed...:   0%|                                                                         | 0/1 [00:49<?, ? url/s]\u001b[A\n",
      "Dl Completed...:   0%|                                                                         | 0/1 [00:49<?, ? url/s]\u001b[A\n",
      "Dl Completed...:   0%|                                                                         | 0/1 [00:49<?, ? url/s]\u001b[A\n",
      "Dl Completed...:   0%|                                                                         | 0/1 [00:49<?, ? url/s]\u001b[A\n",
      "Dl Completed...:   0%|                                                                         | 0/1 [00:49<?, ? url/s]\u001b[A\n",
      "Dl Completed...:   0%|                                                                         | 0/1 [00:49<?, ? url/s]\u001b[A\n",
      "Dl Completed...:   0%|                                                                         | 0/1 [00:50<?, ? url/s]\u001b[A\n",
      "Dl Size...:  73%|████████████████████████████████████████████████▍                 | 160/218 [00:50<00:12,  4.62 MiB/s]\u001b[A\n",
      "Dl Completed...:   0%|                                                                         | 0/1 [00:50<?, ? url/s]\u001b[A\n",
      "Dl Completed...:   0%|                                                                         | 0/1 [00:50<?, ? url/s]\u001b[A\n",
      "Dl Completed...:   0%|                                                                         | 0/1 [00:50<?, ? url/s]\u001b[A\n",
      "Dl Completed...:   0%|                                                                         | 0/1 [00:50<?, ? url/s]\u001b[A\n",
      "Dl Completed...:   0%|                                                                         | 0/1 [00:50<?, ? url/s]\u001b[A\n",
      "Dl Completed...:   0%|                                                                         | 0/1 [00:50<?, ? url/s]\u001b[A\n",
      "Dl Completed...:   0%|                                                                         | 0/1 [00:50<?, ? url/s]\u001b[A\n",
      "Dl Completed...:   0%|                                                                         | 0/1 [00:50<?, ? url/s]\u001b[A\n",
      "Dl Completed...:   0%|                                                                         | 0/1 [00:51<?, ? url/s]\u001b[A\n",
      "Dl Size...:  78%|███████████████████████████████████████████████████▏              | 169/218 [00:51<00:09,  5.11 MiB/s]\u001b[A\n",
      "Dl Completed...:   0%|                                                                         | 0/1 [00:51<?, ? url/s]\u001b[A\n",
      "Dl Completed...:   0%|                                                                         | 0/1 [00:51<?, ? url/s]\u001b[A\n",
      "Dl Completed...:   0%|                                                                         | 0/1 [00:51<?, ? url/s]\u001b[A\n",
      "Dl Completed...:   0%|                                                                         | 0/1 [00:51<?, ? url/s]\u001b[A\n",
      "Dl Completed...:   0%|                                                                         | 0/1 [00:51<?, ? url/s]\u001b[A\n",
      "Dl Completed...:   0%|                                                                         | 0/1 [00:51<?, ? url/s]\u001b[A\n",
      "Dl Completed...:   0%|                                                                         | 0/1 [00:52<?, ? url/s]\u001b[A\n",
      "Dl Size...:  81%|█████████████████████████████████████████████████████▎            | 176/218 [00:52<00:07,  5.82 MiB/s]\u001b[A\n",
      "Dl Completed...:   0%|                                                                         | 0/1 [00:53<?, ? url/s]\u001b[A\n",
      "Dl Completed...:   0%|                                                                         | 0/1 [00:53<?, ? url/s]\u001b[A\n",
      "Dl Completed...:   0%|                                                                         | 0/1 [00:54<?, ? url/s]\u001b[A\n",
      "Dl Completed...:   0%|                                                                         | 0/1 [00:55<?, ? url/s]\u001b[A\n",
      "Dl Completed...:   0%|                                                                         | 0/1 [00:55<?, ? url/s]\u001b[A\n",
      "Dl Completed...:   0%|                                                                         | 0/1 [00:55<?, ? url/s]\u001b[A\n",
      "Dl Size...:  83%|███████████████████████████████████████████████████████           | 182/218 [00:55<00:07,  4.99 MiB/s]\u001b[A\n",
      "Dl Completed...:   0%|                                                                         | 0/1 [00:55<?, ? url/s]\u001b[A\n",
      "Dl Completed...:   0%|                                                                         | 0/1 [00:55<?, ? url/s]\u001b[A\n",
      "Dl Completed...:   0%|                                                                         | 0/1 [00:55<?, ? url/s]\u001b[A\n",
      "Dl Completed...:   0%|                                                                         | 0/1 [00:55<?, ? url/s]\u001b[A\n",
      "Dl Completed...:   0%|                                                                         | 0/1 [00:55<?, ? url/s]\u001b[A\n",
      "Dl Completed...:   0%|                                                                         | 0/1 [00:56<?, ? url/s]\u001b[A\n",
      "Dl Completed...:   0%|                                                                         | 0/1 [00:56<?, ? url/s]\u001b[A\n",
      "Dl Completed...:   0%|                                                                         | 0/1 [00:56<?, ? url/s]\u001b[A\n",
      "Dl Size...:  87%|█████████████████████████████████████████████████████████▌        | 190/218 [00:56<00:06,  4.10 MiB/s]\u001b[A\n",
      "Dl Completed...:   0%|                                                                         | 0/1 [00:56<?, ? url/s]\u001b[A\n",
      "Dl Completed...:   0%|                                                                         | 0/1 [00:56<?, ? url/s]\u001b[A\n",
      "Dl Completed...:   0%|                                                                         | 0/1 [00:56<?, ? url/s]\u001b[A\n",
      "Dl Completed...:   0%|                                                                         | 0/1 [00:56<?, ? url/s]\u001b[A\n",
      "Dl Completed...:   0%|                                                                         | 0/1 [00:57<?, ? url/s]\u001b[A\n",
      "Dl Completed...:   0%|                                                                         | 0/1 [00:57<?, ? url/s]\u001b[A\n",
      "Dl Completed...:   0%|                                                                         | 0/1 [00:57<?, ? url/s]\u001b[A\n",
      "Dl Size...:  90%|███████████████████████████████████████████████████████████▋      | 197/218 [00:57<00:04,  4.84 MiB/s]\u001b[A\n",
      "Dl Completed...:   0%|                                                                         | 0/1 [00:57<?, ? url/s]\u001b[A\n",
      "Dl Completed...:   0%|                                                                         | 0/1 [01:00<?, ? url/s]\u001b[A\n",
      "Dl Completed...:   0%|                                                                         | 0/1 [01:01<?, ? url/s]\u001b[A\n",
      "Dl Completed...:   0%|                                                                         | 0/1 [01:02<?, ? url/s]\u001b[A\n",
      "Dl Completed...:   0%|                                                                         | 0/1 [01:02<?, ? url/s]\u001b[A\n",
      "Dl Completed...:   0%|                                                                         | 0/1 [01:02<?, ? url/s]\u001b[A\n",
      "Dl Size...:  93%|█████████████████████████████████████████████████████████████▍    | 203/218 [01:02<00:02,  5.12 MiB/s]\u001b[A\n",
      "Dl Completed...:   0%|                                                                         | 0/1 [01:02<?, ? url/s]\u001b[A\n",
      "Dl Completed...:   0%|                                                                         | 0/1 [01:03<?, ? url/s]\u001b[A\n",
      "Dl Completed...:   0%|                                                                         | 0/1 [01:05<?, ? url/s]\u001b[A\n",
      "Dl Completed...:   0%|                                                                         | 0/1 [01:06<?, ? url/s]\u001b[A\n",
      "Dl Completed...:   0%|                                                                         | 0/1 [01:08<?, ? url/s]\u001b[A\n",
      "Dl Size...:  95%|██████████████████████████████████████████████████████████████▉   | 208/218 [01:08<00:03,  2.65 MiB/s]\u001b[A\n",
      "Dl Completed...:   0%|                                                                         | 0/1 [01:11<?, ? url/s]\u001b[A\n",
      "Dl Completed...:   0%|                                                                         | 0/1 [01:12<?, ? url/s]\u001b[A\n",
      "Dl Completed...:   0%|                                                                         | 0/1 [01:12<?, ? url/s]\u001b[A\n",
      "Dl Completed...:   0%|                                                                         | 0/1 [01:13<?, ? url/s]\u001b[A\n",
      "Dl Size...:  97%|████████████████████████████████████████████████████████████████▏ | 212/218 [01:13<00:04,  1.40 MiB/s]\u001b[A\n",
      "Dl Completed...:   0%|                                                                         | 0/1 [01:13<?, ? url/s]\u001b[A\n",
      "Dl Completed...:   0%|                                                                         | 0/1 [01:13<?, ? url/s]\u001b[A\n",
      "Dl Completed...:   0%|                                                                         | 0/1 [01:13<?, ? url/s]\u001b[A\n",
      "Dl Completed...:   0%|                                                                         | 0/1 [01:14<?, ? url/s]\u001b[A\n",
      "Dl Completed...:   0%|                                                                         | 0/1 [01:14<?, ? url/s]\u001b[A\n",
      "Dl Size...: 100%|█████████████████████████████████████████████████████████████████▋| 217/218 [01:14<00:00,  1.54 MiB/s]\u001b[A\n",
      "Dl Completed...:   0%|                                                                         | 0/1 [01:14<?, ? url/s]\u001b[A\n",
      "Dl Completed...: 100%|█████████████████████████████████████████████████████████████████| 1/1 [01:14<00:00, 74.71s/ url]\u001b[A\n",
      "Dl Size...: 100%|██████████████████████████████████████████████████████████████████| 218/218 [01:14<00:00,  2.92 MiB/s]\u001b[A\n",
      "Dl Completed...: 100%|█████████████████████████████████████████████████████████████████| 1/1 [01:14<00:00, 74.72s/ url]\n",
      "Generating splits...:   0%|                                                                 | 0/1 [00:00<?, ? splits/s]\n",
      "Generating train examples...: 0 examples [00:00, ? examples/s]\u001b[A\n",
      "Generating train examples...: 647 examples [00:01, 643.77 examples/s]\u001b[A\n",
      "Generating train examples...: 1291 examples [00:02, 630.12 examples/s]\u001b[A\n",
      "Generating train examples...: 1982 examples [00:03, 653.64 examples/s]\u001b[A\n",
      "Generating train examples...: 2697 examples [00:04, 677.48 examples/s]\u001b[A\n",
      "Generating train examples...: 3550 examples [00:05, 740.21 examples/s]\u001b[A\n",
      "                                                                      \u001b[A\n",
      "Shuffling C:\\Users\\Durgesh\\tensorflow_datasets\\tf_flowers\\3.0.1.incompleteLO997T\\tf_flowers-train.tfrecord*...:   0%| |\u001b[A\n",
      "Shuffling C:\\Users\\Durgesh\\tensorflow_datasets\\tf_flowers\\3.0.1.incompleteLO997T\\tf_flowers-train.tfrecord*...:  17%|▏|\u001b[A\n",
      "Shuffling C:\\Users\\Durgesh\\tensorflow_datasets\\tf_flowers\\3.0.1.incompleteLO997T\\tf_flowers-train.tfrecord*...:  38%|▍|\u001b[A\n",
      "Shuffling C:\\Users\\Durgesh\\tensorflow_datasets\\tf_flowers\\3.0.1.incompleteLO997T\\tf_flowers-train.tfrecord*...:  57%|▌|\u001b[A\n",
      "Shuffling C:\\Users\\Durgesh\\tensorflow_datasets\\tf_flowers\\3.0.1.incompleteLO997T\\tf_flowers-train.tfrecord*...:  77%|▊|\u001b[A\n",
      "Shuffling C:\\Users\\Durgesh\\tensorflow_datasets\\tf_flowers\\3.0.1.incompleteLO997T\\tf_flowers-train.tfrecord*...:  99%|▉|\u001b[A\n",
      "                                                                                                                       \u001b[A\r"
     ]
    },
    {
     "name": "stdout",
     "output_type": "stream",
     "text": [
      "\u001b[1mDataset tf_flowers downloaded and prepared to C:\\Users\\Durgesh\\tensorflow_datasets\\tf_flowers\\3.0.1. Subsequent calls will reuse this data.\u001b[0m\n"
     ]
    }
   ],
   "source": [
    "## Loading images and labels\n",
    "(train_ds, train_labels), (test_ds, test_labels) = tfds.load(\"tf_flowers\",\n",
    "    split=[\"train[:70%]\", \"train[:30%]\"], ## Train test split\n",
    "    batch_size=-1,\n",
    "    as_supervised=True,  # Include labels\n",
    ")"
   ]
  },
  {
   "cell_type": "markdown",
   "metadata": {
    "id": "mkdpQGAK33sD"
   },
   "source": [
    "## Image Preprocessing"
   ]
  },
  {
   "cell_type": "code",
   "execution_count": 6,
   "metadata": {
    "colab": {
     "base_uri": "https://localhost:8080/"
    },
    "id": "KmheITfMAhY2",
    "outputId": "7fdde534-5719-4a37-a0e5-3131aa40abc0"
   },
   "outputs": [
    {
     "data": {
      "text/plain": [
       "TensorShape([442, 1024, 3])"
      ]
     },
     "execution_count": 6,
     "metadata": {},
     "output_type": "execute_result"
    }
   ],
   "source": [
    "## check existing image size\n",
    "train_ds[0].shape"
   ]
  },
  {
   "cell_type": "code",
   "execution_count": 7,
   "metadata": {
    "id": "0bMHv0YHwpy0"
   },
   "outputs": [],
   "source": [
    "## Resizing images\n",
    "train_ds = tf.image.resize(train_ds, (150, 150))\n",
    "test_ds = tf.image.resize(test_ds, (150, 150))"
   ]
  },
  {
   "cell_type": "code",
   "execution_count": 26,
   "metadata": {},
   "outputs": [
    {
     "data": {
      "text/plain": [
       "TensorShape([150, 150, 3])"
      ]
     },
     "execution_count": 26,
     "metadata": {},
     "output_type": "execute_result"
    }
   ],
   "source": [
    "train_ds[0].shape"
   ]
  },
  {
   "cell_type": "code",
   "execution_count": 8,
   "metadata": {
    "colab": {
     "base_uri": "https://localhost:8080/"
    },
    "id": "8sBEwFbhFoyp",
    "outputId": "06753626-1fdf-4b55-fe23-3fa25d4b254f"
   },
   "outputs": [
    {
     "data": {
      "text/plain": [
       "<tf.Tensor: shape=(2569,), dtype=int64, numpy=array([2, 3, 3, ..., 0, 2, 0], dtype=int64)>"
      ]
     },
     "execution_count": 8,
     "metadata": {},
     "output_type": "execute_result"
    }
   ],
   "source": [
    "train_labels"
   ]
  },
  {
   "cell_type": "code",
   "execution_count": 9,
   "metadata": {
    "id": "INXWXF30wrDQ"
   },
   "outputs": [],
   "source": [
    "## Transforming labels to correct format\n",
    "train_labels = to_categorical(train_labels, num_classes=5)\n",
    "test_labels = to_categorical(test_labels, num_classes=5)"
   ]
  },
  {
   "cell_type": "code",
   "execution_count": 10,
   "metadata": {
    "colab": {
     "base_uri": "https://localhost:8080/"
    },
    "id": "dheCpyMGFkXu",
    "outputId": "aae2582a-2dbf-4705-e0e4-13497bfc525b"
   },
   "outputs": [
    {
     "data": {
      "text/plain": [
       "array([0., 0., 1., 0., 0.], dtype=float32)"
      ]
     },
     "execution_count": 10,
     "metadata": {},
     "output_type": "execute_result"
    }
   ],
   "source": [
    "train_labels[0]"
   ]
  },
  {
   "cell_type": "markdown",
   "metadata": {
    "id": "-Aiop4a_ATzu"
   },
   "source": [
    "### Use Pretrained VGG16 Image Classification model"
   ]
  },
  {
   "cell_type": "markdown",
   "metadata": {
    "id": "_IUd3JMFRFiB"
   },
   "source": [
    "# **Load a pre-trained CNN model trained on a large dataset**"
   ]
  },
  {
   "cell_type": "code",
   "execution_count": 11,
   "metadata": {
    "id": "UPP9gshIw-uV"
   },
   "outputs": [],
   "source": [
    "from tensorflow.keras.applications.vgg16 import VGG16\n",
    "from tensorflow.keras.applications.vgg16 import preprocess_input"
   ]
  },
  {
   "cell_type": "code",
   "execution_count": 12,
   "metadata": {
    "colab": {
     "base_uri": "https://localhost:8080/"
    },
    "id": "NSIaHJyqVIk9",
    "outputId": "ec6a3399-0a48-4112-9f27-5efdd262b8b8"
   },
   "outputs": [
    {
     "data": {
      "text/plain": [
       "TensorShape([150, 150, 3])"
      ]
     },
     "execution_count": 12,
     "metadata": {},
     "output_type": "execute_result"
    }
   ],
   "source": [
    "train_ds[0].shape"
   ]
  },
  {
   "cell_type": "code",
   "execution_count": 13,
   "metadata": {
    "id": "ctEqAXOExAfR"
   },
   "outputs": [
    {
     "name": "stdout",
     "output_type": "stream",
     "text": [
      "Downloading data from https://storage.googleapis.com/tensorflow/keras-applications/vgg16/vgg16_weights_tf_dim_ordering_tf_kernels_notop.h5\n",
      "58889256/58889256 [==============================] - 12s 0us/step\n"
     ]
    }
   ],
   "source": [
    "## Loading VGG16 model\n",
    "base_model = VGG16(weights=\"imagenet\", include_top=False, input_shape=train_ds[0].shape)"
   ]
  },
  {
   "cell_type": "code",
   "execution_count": 14,
   "metadata": {
    "id": "7iEX_7Q6Ay_q"
   },
   "outputs": [],
   "source": [
    "## will not train base mode\n",
    "# Freeze Parameters in model's lower convolutional layers\n",
    "base_model.trainable = False "
   ]
  },
  {
   "cell_type": "code",
   "execution_count": 15,
   "metadata": {
    "id": "OLPywWRFxL4B"
   },
   "outputs": [],
   "source": [
    "## Preprocessing input\n",
    "train_ds = preprocess_input(train_ds) \n",
    "test_ds = preprocess_input(test_ds)"
   ]
  },
  {
   "cell_type": "code",
   "execution_count": 16,
   "metadata": {
    "colab": {
     "base_uri": "https://localhost:8080/"
    },
    "id": "DgpwpRUP3EQT",
    "outputId": "51e6cfe8-6c93-465e-cb95-ea7961a26697"
   },
   "outputs": [
    {
     "name": "stdout",
     "output_type": "stream",
     "text": [
      "Model: \"vgg16\"\n",
      "_________________________________________________________________\n",
      " Layer (type)                Output Shape              Param #   \n",
      "=================================================================\n",
      " input_1 (InputLayer)        [(None, 150, 150, 3)]     0         \n",
      "                                                                 \n",
      " block1_conv1 (Conv2D)       (None, 150, 150, 64)      1792      \n",
      "                                                                 \n",
      " block1_conv2 (Conv2D)       (None, 150, 150, 64)      36928     \n",
      "                                                                 \n",
      " block1_pool (MaxPooling2D)  (None, 75, 75, 64)        0         \n",
      "                                                                 \n",
      " block2_conv1 (Conv2D)       (None, 75, 75, 128)       73856     \n",
      "                                                                 \n",
      " block2_conv2 (Conv2D)       (None, 75, 75, 128)       147584    \n",
      "                                                                 \n",
      " block2_pool (MaxPooling2D)  (None, 37, 37, 128)       0         \n",
      "                                                                 \n",
      " block3_conv1 (Conv2D)       (None, 37, 37, 256)       295168    \n",
      "                                                                 \n",
      " block3_conv2 (Conv2D)       (None, 37, 37, 256)       590080    \n",
      "                                                                 \n",
      " block3_conv3 (Conv2D)       (None, 37, 37, 256)       590080    \n",
      "                                                                 \n",
      " block3_pool (MaxPooling2D)  (None, 18, 18, 256)       0         \n",
      "                                                                 \n",
      " block4_conv1 (Conv2D)       (None, 18, 18, 512)       1180160   \n",
      "                                                                 \n",
      " block4_conv2 (Conv2D)       (None, 18, 18, 512)       2359808   \n",
      "                                                                 \n",
      " block4_conv3 (Conv2D)       (None, 18, 18, 512)       2359808   \n",
      "                                                                 \n",
      " block4_pool (MaxPooling2D)  (None, 9, 9, 512)         0         \n",
      "                                                                 \n",
      " block5_conv1 (Conv2D)       (None, 9, 9, 512)         2359808   \n",
      "                                                                 \n",
      " block5_conv2 (Conv2D)       (None, 9, 9, 512)         2359808   \n",
      "                                                                 \n",
      " block5_conv3 (Conv2D)       (None, 9, 9, 512)         2359808   \n",
      "                                                                 \n",
      " block5_pool (MaxPooling2D)  (None, 4, 4, 512)         0         \n",
      "                                                                 \n",
      "=================================================================\n",
      "Total params: 14714688 (56.13 MB)\n",
      "Trainable params: 0 (0.00 Byte)\n",
      "Non-trainable params: 14714688 (56.13 MB)\n",
      "_________________________________________________________________\n"
     ]
    }
   ],
   "source": [
    "## model details\n",
    "base_model.summary()"
   ]
  },
  {
   "cell_type": "markdown",
   "metadata": {
    "id": "IigTSyFFRngo"
   },
   "source": [
    "**Add custom classifier with two dense layers of trainable parameters to model**"
   ]
  },
  {
   "cell_type": "code",
   "execution_count": 17,
   "metadata": {
    "id": "cWjkm7Yq3E-u"
   },
   "outputs": [],
   "source": [
    "#add our layers on top of this model\n",
    "from tensorflow.keras import layers, models\n",
    "\n",
    "flatten_layer = layers.Flatten()\n",
    "dense_layer_1 = layers.Dense(50, activation='relu')\n",
    "dense_layer_2 = layers.Dense(20, activation='relu')\n",
    "prediction_layer = layers.Dense(5, activation='softmax')\n",
    "\n",
    "\n",
    "model = models.Sequential([\n",
    "    base_model,\n",
    "    flatten_layer,\n",
    "    dense_layer_1,\n",
    "    dense_layer_2,\n",
    "    prediction_layer\n",
    "])"
   ]
  },
  {
   "cell_type": "markdown",
   "metadata": {
    "id": "7UCBUAxoRzB6"
   },
   "source": [
    "**Train classifier layers on training data available for task**"
   ]
  },
  {
   "cell_type": "code",
   "execution_count": 18,
   "metadata": {
    "id": "T8hbLJyo3LJN"
   },
   "outputs": [],
   "source": [
    "from tensorflow.keras.callbacks import EarlyStopping\n",
    "\n",
    "model.compile(\n",
    "    optimizer='adam',\n",
    "    loss='categorical_crossentropy',\n",
    "    metrics=['accuracy'],\n",
    ")"
   ]
  },
  {
   "cell_type": "code",
   "execution_count": 19,
   "metadata": {
    "id": "W3a65Dew3QeJ"
   },
   "outputs": [],
   "source": [
    "es = EarlyStopping(monitor='val_accuracy', mode='max', patience=5,  restore_best_weights=True)"
   ]
  },
  {
   "cell_type": "code",
   "execution_count": 21,
   "metadata": {
    "colab": {
     "base_uri": "https://localhost:8080/"
    },
    "id": "FmjVDVSC3Tki",
    "outputId": "51ec64df-47ac-47c2-b966-0f14041f5567"
   },
   "outputs": [
    {
     "name": "stdout",
     "output_type": "stream",
     "text": [
      "65/65 [==============================] - 303s 5s/step - loss: 0.2285 - accuracy: 0.9280 - val_loss: 1.1758 - val_accuracy: 0.6615\n"
     ]
    }
   ],
   "source": [
    "history=model.fit(train_ds, train_labels, epochs=1, validation_split=0.2, batch_size=32, callbacks=[es])"
   ]
  },
  {
   "cell_type": "code",
   "execution_count": 22,
   "metadata": {
    "colab": {
     "base_uri": "https://localhost:8080/"
    },
    "id": "WHGD6k1UCZGW",
    "outputId": "f22a5977-d7a0-4e7c-f7cd-2a189f9d7715"
   },
   "outputs": [
    {
     "name": "stdout",
     "output_type": "stream",
     "text": [
      "35/35 [==============================] - 100s 3s/step - loss: 0.1404 - accuracy: 0.9628\n",
      "Loss:  0.1404050886631012 Accuracy:  0.9627611041069031\n"
     ]
    }
   ],
   "source": [
    "los,accurac=model.evaluate(test_ds,test_labels)\n",
    "print(\"Loss: \",los,\"Accuracy: \", accurac)"
   ]
  }
 ],
 "metadata": {
  "accelerator": "GPU",
  "colab": {
   "collapsed_sections": [],
   "provenance": []
  },
  "kernelspec": {
   "display_name": "Python 3 (ipykernel)",
   "language": "python",
   "name": "python3"
  },
  "language_info": {
   "codemirror_mode": {
    "name": "ipython",
    "version": 3
   },
   "file_extension": ".py",
   "mimetype": "text/x-python",
   "name": "python",
   "nbconvert_exporter": "python",
   "pygments_lexer": "ipython3",
   "version": "3.11.4"
  },
  "vscode": {
   "interpreter": {
    "hash": "04fd13971ff0567d19b8656189bcef43831803fbed13522a59784b6430c51551"
   }
  }
 },
 "nbformat": 4,
 "nbformat_minor": 4
}
